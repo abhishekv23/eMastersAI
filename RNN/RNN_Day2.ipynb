{
 "cells": [
  {
   "cell_type": "code",
   "execution_count": null,
   "id": "4c8ea8e9",
   "metadata": {},
   "outputs": [],
   "source": [
    "import torch"
   ]
  },
  {
   "cell_type": "code",
   "execution_count": 36,
   "id": "dd521ea9",
   "metadata": {},
   "outputs": [],
   "source": [
    "import numpy.random as random"
   ]
  },
  {
   "cell_type": "code",
   "execution_count": 41,
   "id": "52bac57e",
   "metadata": {},
   "outputs": [],
   "source": [
    "import matplotlib.pyplot as plt"
   ]
  },
  {
   "cell_type": "code",
   "execution_count": null,
   "id": "ce7383ae",
   "metadata": {},
   "outputs": [],
   "source": [
    "from io import open\n",
    "import glob\n",
    "import os\n",
    "\n",
    "def findFiles(path): return glob.glob(path)\n",
    "\n",
    "print(findFiles('data/names/*.txt'))\n",
    "\n",
    "import unicodedata\n",
    "import string\n",
    "\n",
    "all_letters = string.ascii_letters + \" .,;'\"\n",
    "n_letters = len(all_letters)\n",
    "\n",
    "# Turn a Unicode string to plain ASCII, thanks to https://stackoverflow.com/a/518232/2809427\n",
    "def unicodeToAscii(s):\n",
    "    return ''.join(\n",
    "        c for c in unicodedata.normalize('NFD', s)\n",
    "        if unicodedata.category(c) != 'Mn'\n",
    "        and c in all_letters\n",
    "    )\n",
    "\n",
    "print(unicodeToAscii('Ślusàrski'))\n",
    "\n",
    "# Build the category_lines dictionary, a list of names per language\n",
    "category_lines = {}\n",
    "all_categories = []\n",
    "\n",
    "# Read a file and split into lines\n",
    "def readLines(filename):\n",
    "    lines = open(filename, encoding='utf-8').read().strip().split('\\n')\n",
    "    return [unicodeToAscii(line) for line in lines]\n",
    "\n",
    "for filename in findFiles('data/names/*.txt'):\n",
    "    category = os.path.splitext(os.path.basename(filename))[0]\n",
    "    all_categories.append(category)\n",
    "    lines = readLines(filename)\n",
    "    category_lines[category] = lines\n",
    "\n",
    "n_categories = len(all_categories)"
   ]
  },
  {
   "cell_type": "code",
   "execution_count": null,
   "id": "24f24dd4",
   "metadata": {},
   "outputs": [],
   "source": [
    "print(category_lines)"
   ]
  },
  {
   "cell_type": "code",
   "execution_count": null,
   "id": "d59e2bd5",
   "metadata": {},
   "outputs": [],
   "source": [
    "# Find letter index from all_letters, e.g. \"a\" = 0\n",
    "def letterToIndex(letter):\n",
    "    return all_letters.find(letter)\n",
    "\n",
    "# Just for demonstration, turn a letter into a <1 x n_letters> Tensor\n",
    "def letterToTensor(letter):\n",
    "    tensor = torch.zeros(1, n_letters)\n",
    "    tensor[0][letterToIndex(letter)] = 1\n",
    "    return tensor\n",
    "\n",
    "# Turn a line into a <line_length x 1 x n_letters>,\n",
    "# or an array of one-hot letter vectors\n",
    "def lineToTensor(line):\n",
    "    tensor = torch.zeros(len(line), 1, n_letters)\n",
    "    for li, letter in enumerate(line):\n",
    "        tensor[li][0][letterToIndex(letter)] = 1\n",
    "    return tensor"
   ]
  },
  {
   "cell_type": "code",
   "execution_count": null,
   "id": "83ed65e0",
   "metadata": {},
   "outputs": [],
   "source": [
    "print(letterToTensor('J'))\n",
    "print(letterToTensor('J').shape)"
   ]
  },
  {
   "cell_type": "code",
   "execution_count": null,
   "id": "8b2e394d",
   "metadata": {},
   "outputs": [],
   "source": [
    "print(lineToTensor('Jones').shape)"
   ]
  },
  {
   "cell_type": "code",
   "execution_count": 38,
   "id": "27513d7d",
   "metadata": {},
   "outputs": [],
   "source": [
    "def random_train_sample(category_lines, all_categories):\n",
    "    def random_choice(a):\n",
    "        random_index = random.randint(0,len(a) - 1)\n",
    "        return a[random_index]\n",
    "    category = random_choice(all_categories)\n",
    "    line = random_choice(category_lines[category])\n",
    "    category_tensor = torch.tensor([all_categories.index(category)],dtype=torch.long)\n",
    "    line_tensor = lineToTensor(line)\n",
    "    return category, line, category_tensor, line_tensor"
   ]
  },
  {
   "cell_type": "markdown",
   "id": "6751cf81",
   "metadata": {},
   "source": [
    "## Creating RNN from Scratch"
   ]
  },
  {
   "cell_type": "code",
   "execution_count": 10,
   "id": "b2290b8d",
   "metadata": {},
   "outputs": [],
   "source": [
    "import torch.nn as nn\n",
    "import torch.nn.functional as F"
   ]
  },
  {
   "cell_type": "code",
   "execution_count": null,
   "id": "8a1d58a9",
   "metadata": {},
   "outputs": [],
   "source": [
    "class RNN(nn.Module):\n",
    "    def __init__(self, input_size, hidden_size, output_size):\n",
    "        super(RNN, self).__init__()\n",
    "        \n",
    "        self.hidden_size = hidden_size\n",
    "        self.i2h = nn.Linear(input_size + hidden_size, hidden_size)\n",
    "        #self.h2h = nn.Linear(hidden_size, hidden_size)\n",
    "        self.i2o = nn.Linear(input_size + hidden_size, output_size)\n",
    "        self.softmax = nn.LogSoftmax(dim=1)\n",
    "        \n",
    "    def forward(self, input_tensor, hidden_tensor):\n",
    "        combined = torch.cat((input_tensor, hidden_tensor), 1)\n",
    "        \n",
    "        hidden = self.i2h(combined)\n",
    "        output = self.i2o(combined)\n",
    "        output = self.softmax(output)\n",
    "        \n",
    "        return output, hidden\n",
    "    def initHidden(self):\n",
    "        return torch.zeros(1, self.hidden_size)\n",
    "\n",
    "n_hidden = 128\n",
    "rnn = RNN(n_letters, n_hidden, n_categories)\n",
    "\n",
    "#perform one step\n",
    "input_tensor = letterToTensor('A') #input one hot vector\n",
    "hidden_tensor = rnn.initHidden() # initialize h with zeros\n",
    "\n",
    "output, next_hidden = rnn(input_tensor, hidden_tensor)\n",
    "\n",
    "print(output.size())\n",
    "print(next_hidden.size())\n"
   ]
  },
  {
   "cell_type": "code",
   "execution_count": null,
   "id": "6ceb0ed3",
   "metadata": {},
   "outputs": [],
   "source": [
    "#apply this on a word (sequence of letters)\n",
    "input_tensor = lineToTensor('verma')\n",
    "hidden_tensor = rnn.initHidden()\n",
    "\n",
    "output, next_hidden = rnn(input_tensor[0], hidden_tensor)#works for 1 letter.\n",
    "print(input_tensor[0].size())\n",
    "print(output.size())\n",
    "print(next_hidden.size())\n"
   ]
  },
  {
   "cell_type": "code",
   "execution_count": 20,
   "id": "4a5ad597",
   "metadata": {},
   "outputs": [],
   "source": [
    "#convert output to categorical\n",
    "def category_from_output(output):\n",
    "    category_index = torch.argmax(output).item()\n",
    "    return all_categories[category_index]"
   ]
  },
  {
   "cell_type": "code",
   "execution_count": null,
   "id": "f7257283",
   "metadata": {},
   "outputs": [],
   "source": [
    "print(category_from_output(output))"
   ]
  },
  {
   "cell_type": "code",
   "execution_count": null,
   "id": "6fe9c63c",
   "metadata": {},
   "outputs": [],
   "source": [
    "print(input_tensor.size())"
   ]
  },
  {
   "cell_type": "code",
   "execution_count": 22,
   "id": "3640e4ed",
   "metadata": {},
   "outputs": [],
   "source": [
    "criterion = nn.NLLLoss()\n",
    "learning_rate = 0.005\n",
    "optimizer = torch.optim.SGD(rnn.parameters(), learning_rate)"
   ]
  },
  {
   "cell_type": "code",
   "execution_count": 28,
   "id": "a894da9f",
   "metadata": {},
   "outputs": [],
   "source": [
    "# training loop\n",
    "def train(line_tensor, category_tensor):\n",
    "    hidden = rnn.initHidden()\n",
    "    \n",
    "    for i in range(line_tensor.size()[0]):\n",
    "        output, hidden = rnn(line_tensor[i], hidden)\n",
    "\n",
    "    loss = criterion(output, category_tensor)\n",
    "    \n",
    "    optimizer.zero_grad()\n",
    "    loss.backward()\n",
    "    optimizer.step()\n",
    "    \n",
    "    return output, loss.item()"
   ]
  },
  {
   "cell_type": "code",
   "execution_count": 29,
   "id": "919284b0",
   "metadata": {},
   "outputs": [],
   "source": [
    "current_loss = 0\n",
    "all_losses =[]\n",
    "plot_steps, print_steps = 1000, 5000\n",
    "epochs = 100000"
   ]
  },
  {
   "cell_type": "code",
   "execution_count": null,
   "id": "6ceb18ce",
   "metadata": {},
   "outputs": [],
   "source": [
    "for i in range(epochs):\n",
    "    #for every epoch, fetch random training sample\n",
    "    category, line, category_tensor, line_tensor = random_train_sample(category_lines, all_categories)\n",
    "    \n",
    "    output, loss = train(line_tensor, category_tensor)\n",
    "    current_loss += loss\n",
    "    \n",
    "    if (i+1) % plot_steps ==0:\n",
    "        all_losses.append(current_loss / plot_steps)\n",
    "        current_loss = 0\n",
    "    \n",
    "    "
   ]
  },
  {
   "cell_type": "code",
   "execution_count": null,
   "id": "c60678bb",
   "metadata": {
    "scrolled": true
   },
   "outputs": [],
   "source": [
    "plt.figure()\n",
    "plt.plot(all_losses)\n",
    "plt.show()"
   ]
  },
  {
   "cell_type": "code",
   "execution_count": null,
   "id": "5f001d0a",
   "metadata": {},
   "outputs": [],
   "source": [
    "#generate prediction\n",
    "def predict(input_line):\n",
    "    print(f\"\\n {input_line}\")\n",
    "    with torch.no_grad():\n",
    "        line_tensor = lineToTensor(input_line)\n",
    "        hidden = rnn.initHidden()\n",
    "        for i in range(line_tensor.size()[0]):\n",
    "            output, hidden = rnn(line_tensor[i], hidden)\n",
    "        \n",
    "        prediction = category_from_output(output)\n",
    "        print(prediction)\n",
    "          \n",
    "while True:\n",
    "    sentence = input(\"Input\")\n",
    "    if sentence ==\"quit\":\n",
    "        break\n",
    "    predict(sentence)"
   ]
  },
  {
   "cell_type": "code",
   "execution_count": null,
   "id": "7d8f2d9f",
   "metadata": {},
   "outputs": [],
   "source": []
  }
 ],
 "metadata": {
  "kernelspec": {
   "display_name": "Python 3 (ipykernel)",
   "language": "python",
   "name": "python3"
  },
  "language_info": {
   "codemirror_mode": {
    "name": "ipython",
    "version": 3
   },
   "file_extension": ".py",
   "mimetype": "text/x-python",
   "name": "python",
   "nbconvert_exporter": "python",
   "pygments_lexer": "ipython3",
   "version": "3.8.8"
  }
 },
 "nbformat": 4,
 "nbformat_minor": 5
}
