{
 "cells": [
  {
   "cell_type": "markdown",
   "id": "4fcdf089",
   "metadata": {},
   "source": [
    "## Steps to Build an RNN\n",
    "1. Import Libraries: Bring in the required libraries, torch, torch.nn and torch.optim.\n",
    "2. Define the RNN Model: Create a class for your RNN model by, subclassing torch.nn.Module.\n",
    "3. Preparing Data: Data must be in a sequential format in order for RNNs to function properly. Preprocessing procedures like tokenization for text data, and normalization for time series data are frequently involved in this.\n",
    "4. DataLoader in PyTorch: PyTorch provides the DataLoader class to easily handle batching, shuffling, and loading data in parallel. This is crucial for efficient training of RNNs.\n",
    "5. Train the Model: Use a loss function and an optimizer to train your model on your dataset. Training Loop When training an RNN, the data is iterated over several times, or epochs and the model weights are updated by the use of backpropagation through time (BPTT)\n",
    "6. Evaluate the Model: Test your model to see how well it performs on unseen data."
   ]
  },
  {
   "cell_type": "code",
   "execution_count": null,
   "id": "2348ed51",
   "metadata": {},
   "outputs": [],
   "source": [
    "import numpy as np\n",
    "import matplotlib.pyplot as plt"
   ]
  },
  {
   "cell_type": "code",
   "execution_count": 2,
   "id": "75fa478b",
   "metadata": {},
   "outputs": [],
   "source": [
    "import torch\n",
    "import torch.nn as nn\n",
    "import torch.optim as optim"
   ]
  },
  {
   "cell_type": "code",
   "execution_count": 139,
   "id": "2f5f3dd8",
   "metadata": {},
   "outputs": [],
   "source": [
    "# Create synthentic data\n",
    "def generate_data(num_samples, seq_len):\n",
    "    X = []\n",
    "    Y = []\n",
    "    for i in range(num_samples):\n",
    "        x = np.linspace(i*2*np.pi, (i+1)*2*np.pi, seq_len+1)\n",
    "        print(x)\n",
    "        sine_wave = np.sin(x)\n",
    "        print(sine_wave)\n",
    "        X.append(x[1:])\n",
    "        Y.append(sine_wave[1:])\n",
    "    return np.array(X), np.array(Y)\n"
   ]
  },
  {
   "cell_type": "code",
   "execution_count": null,
   "id": "04b4da78",
   "metadata": {},
   "outputs": [],
   "source": [
    "num_samples = 10\n",
    "x, y = generate_data(num_samples, 50)"
   ]
  },
  {
   "cell_type": "code",
   "execution_count": null,
   "id": "3f657c31",
   "metadata": {},
   "outputs": [],
   "source": [
    "fig, ax = plt.subplots()\n",
    "for i in range(num_samples):\n",
    "    ax.plot(x[i], y[i])\n",
    "plt.show()\n"
   ]
  },
  {
   "cell_type": "code",
   "execution_count": null,
   "id": "53b67e1f",
   "metadata": {},
   "outputs": [],
   "source": [
    "# convert to pytorch tensors\n",
    "x = torch.tensor(x, dtype=torch.float32)\n",
    "y = torch.tensor(y, dtype=torch.float32)\n",
    "print(x.shape)"
   ]
  },
  {
   "cell_type": "code",
   "execution_count": 143,
   "id": "52964f4f",
   "metadata": {},
   "outputs": [],
   "source": [
    "#Define an RNN model\n",
    "class SimpleRNN(nn.Module):\n",
    "    def __init__(self, input_size, hidden_size, output_size):\n",
    "        super(SimpleRNN, self).__init__()\n",
    "        self.rnn = nn.RNN(input_size, hidden_size, batch_first=True)\n",
    "        self.fc = nn.Linear(hidden_size, output_size)\n",
    "    \n",
    "    def forward(self, x):\n",
    "        h0 = torch.zeros(1, x.size(0), hidden_size).to(x.device)\n",
    "        out, _ = self.rnn(x, h0)\n",
    "        out = self.fc(out)\n",
    "        return out"
   ]
  },
  {
   "cell_type": "code",
   "execution_count": 144,
   "id": "c5030799",
   "metadata": {},
   "outputs": [],
   "source": [
    "input_size = 1\n",
    "hidden_size = 20\n",
    "output_size = 1\n",
    "model = SimpleRNN(input_size, hidden_size, output_size)"
   ]
  },
  {
   "cell_type": "code",
   "execution_count": null,
   "id": "8174404a",
   "metadata": {},
   "outputs": [],
   "source": [
    "print(model.parameters)\n",
    "#train the model using Mean Squared Error (MSE) loss and the Adam optimizer.\n",
    "criterion = nn.MSELoss()\n",
    "optimizer = optim.Adam(model.parameters(), lr = 0.001)\n",
    "\n",
    "# training loop\n",
    "num_epochs = 1000\n",
    "#for collecting losses\n",
    "train_loss_arr = []\n",
    "for epoch in range(num_epochs):\n",
    "    model.train()\n",
    "    outputs = model(x.unsqueeze(2))\n",
    "    loss = criterion(outputs, y.unsqueeze(2))\n",
    "    \n",
    "    optimizer.zero_grad()\n",
    "    loss.backward()\n",
    "    optimizer.step()\n",
    "    #accumulate the loss\n",
    "    loss = loss.item()\n",
    "    #accumulate training losses\n",
    "    train_loss_arr.append(loss)\n"
   ]
  },
  {
   "cell_type": "code",
   "execution_count": null,
   "id": "db4c8413",
   "metadata": {},
   "outputs": [],
   "source": [
    "print(train_loss_arr)"
   ]
  },
  {
   "cell_type": "code",
   "execution_count": null,
   "id": "21f12fe3",
   "metadata": {},
   "outputs": [],
   "source": [
    "plt.plot(train_loss_arr)\n",
    "plt.show()"
   ]
  },
  {
   "cell_type": "code",
   "execution_count": null,
   "id": "0242c88e",
   "metadata": {},
   "outputs": [],
   "source": [
    "num_samples = 10\n",
    "x_, _ = generate_data(num_samples, 50)\n",
    "# make the prediction\n",
    "model.eval()\n",
    "with torch.no_grad():\n",
    "    predictions = model(x_)\n",
    "\n",
    "#print(x)\n"
   ]
  },
  {
   "cell_type": "code",
   "execution_count": null,
   "id": "eaa74109",
   "metadata": {},
   "outputs": [],
   "source": [
    "#plt.plot(x_, predictions[0], label='Predicted')\n",
    "for i in range(6,10):\n",
    "    plt.plot(x_[i], predictions[0])\n",
    "for j in range(5):\n",
    "    plt.plot(x_[j], y[j])\n",
    "plt.show()"
   ]
  },
  {
   "cell_type": "code",
   "execution_count": null,
   "id": "5e6f8d11",
   "metadata": {},
   "outputs": [],
   "source": []
  },
  {
   "cell_type": "code",
   "execution_count": null,
   "id": "4de673bc",
   "metadata": {},
   "outputs": [],
   "source": []
  }
 ],
 "metadata": {
  "kernelspec": {
   "display_name": "Python 3 (ipykernel)",
   "language": "python",
   "name": "python3"
  },
  "language_info": {
   "codemirror_mode": {
    "name": "ipython",
    "version": 3
   },
   "file_extension": ".py",
   "mimetype": "text/x-python",
   "name": "python",
   "nbconvert_exporter": "python",
   "pygments_lexer": "ipython3",
   "version": "3.8.8"
  }
 },
 "nbformat": 4,
 "nbformat_minor": 5
}
