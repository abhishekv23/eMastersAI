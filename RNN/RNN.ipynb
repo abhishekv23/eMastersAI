{
 "cells": [
  {
   "cell_type": "code",
   "execution_count": 21,
   "id": "f0024ff7",
   "metadata": {},
   "outputs": [],
   "source": [
    "import torch\n",
    "import torch.nn as nn"
   ]
  },
  {
   "cell_type": "code",
   "execution_count": 17,
   "id": "ae5d74db",
   "metadata": {},
   "outputs": [],
   "source": [
    "# define input sequence\n",
    "raw_seq = [10, 20, 30, 40, 50, 60, 70, 80, 90]\n",
    "# choose a number of time steps\n",
    "n_steps = 3\n",
    "# split into samples\n",
    "X = torch.tensor([[10, 20, 30],[40,50,60]])\n",
    "# reshape from [samples, timesteps] into [samples, timesteps, features]\n",
    "n_features = 1"
   ]
  },
  {
   "cell_type": "code",
   "execution_count": 18,
   "id": "50f2930f",
   "metadata": {},
   "outputs": [
    {
     "name": "stdout",
     "output_type": "stream",
     "text": [
      "torch.Size([2, 3])\n"
     ]
    }
   ],
   "source": [
    "print(X.shape)"
   ]
  },
  {
   "cell_type": "code",
   "execution_count": 19,
   "id": "ba3ef1d0",
   "metadata": {},
   "outputs": [],
   "source": [
    "X = X.reshape((X.shape[0], X.shape[1], n_features))"
   ]
  },
  {
   "cell_type": "code",
   "execution_count": 13,
   "id": "cc5d6250",
   "metadata": {},
   "outputs": [
    {
     "name": "stdout",
     "output_type": "stream",
     "text": [
      "tensor([[[10],\n",
      "         [20],\n",
      "         [30]],\n",
      "\n",
      "        [[40],\n",
      "         [50],\n",
      "         [60]]])\n"
     ]
    }
   ],
   "source": [
    "print(X)"
   ]
  },
  {
   "cell_type": "code",
   "execution_count": 76,
   "id": "2012cd81",
   "metadata": {},
   "outputs": [],
   "source": [
    "rnn = nn.RNN(1, 1, 1) #input_size, hidden_size, num_layers=1,\n",
    "#input_size->no. of expected features in input x."
   ]
  },
  {
   "cell_type": "code",
   "execution_count": 77,
   "id": "77c0e472",
   "metadata": {},
   "outputs": [],
   "source": [
    "input = torch.randn(3, 1)# n, sequence_length, input_size"
   ]
  },
  {
   "cell_type": "code",
   "execution_count": 78,
   "id": "c3cecea7",
   "metadata": {},
   "outputs": [
    {
     "name": "stdout",
     "output_type": "stream",
     "text": [
      "torch.Size([3, 1])\n",
      "tensor([[-1.9990],\n",
      "        [-0.8887],\n",
      "        [-0.5633]])\n"
     ]
    }
   ],
   "source": [
    "print(input.shape)#\n",
    "print(input)"
   ]
  },
  {
   "cell_type": "code",
   "execution_count": 81,
   "id": "2be9ca90",
   "metadata": {},
   "outputs": [
    {
     "name": "stdout",
     "output_type": "stream",
     "text": [
      "torch.Size([1, 1])\n"
     ]
    }
   ],
   "source": [
    "h0 = torch.randn(1, 1) #n, num_layers, hidden_size\n",
    "print(h0.shape)"
   ]
  },
  {
   "cell_type": "code",
   "execution_count": 82,
   "id": "301b6ce6",
   "metadata": {},
   "outputs": [],
   "source": [
    "output, hn = rnn(input, h0)# output = sequence_length, hidden_size"
   ]
  },
  {
   "cell_type": "code",
   "execution_count": 83,
   "id": "f6493c34",
   "metadata": {
    "scrolled": true
   },
   "outputs": [
    {
     "name": "stdout",
     "output_type": "stream",
     "text": [
      "tensor([[-0.9796],\n",
      "        [-0.9851],\n",
      "        [-0.9814]], grad_fn=<SqueezeBackward1>)\n",
      "torch.Size([3, 1])\n"
     ]
    }
   ],
   "source": [
    "print(output)\n",
    "print(output.shape)"
   ]
  },
  {
   "cell_type": "code",
   "execution_count": 84,
   "id": "41bb39dc",
   "metadata": {},
   "outputs": [
    {
     "name": "stdout",
     "output_type": "stream",
     "text": [
      "torch.Size([1, 1])\n"
     ]
    }
   ],
   "source": [
    "print(hn.shape)"
   ]
  },
  {
   "cell_type": "code",
   "execution_count": 93,
   "id": "666ebb06",
   "metadata": {},
   "outputs": [
    {
     "name": "stdout",
     "output_type": "stream",
     "text": [
      "[[Parameter containing:\n",
      "tensor([[0.3609]], requires_grad=True), Parameter containing:\n",
      "tensor([[0.9938]], requires_grad=True), Parameter containing:\n",
      "tensor([-0.4162], requires_grad=True), Parameter containing:\n",
      "tensor([-0.7360], requires_grad=True)]]\n"
     ]
    }
   ],
   "source": [
    " print(rnn.all_weights)"
   ]
  },
  {
   "cell_type": "code",
   "execution_count": 87,
   "id": "cfa89a79",
   "metadata": {},
   "outputs": [
    {
     "name": "stdout",
     "output_type": "stream",
     "text": [
      "<generator object Module.parameters at 0x7fe1a9736190>\n"
     ]
    }
   ],
   "source": [
    "print(rnn.parameters())"
   ]
  },
  {
   "cell_type": "code",
   "execution_count": null,
   "id": "ef468efe",
   "metadata": {},
   "outputs": [],
   "source": []
  }
 ],
 "metadata": {
  "kernelspec": {
   "display_name": "Python 3 (ipykernel)",
   "language": "python",
   "name": "python3"
  },
  "language_info": {
   "codemirror_mode": {
    "name": "ipython",
    "version": 3
   },
   "file_extension": ".py",
   "mimetype": "text/x-python",
   "name": "python",
   "nbconvert_exporter": "python",
   "pygments_lexer": "ipython3",
   "version": "3.8.8"
  }
 },
 "nbformat": 4,
 "nbformat_minor": 5
}
